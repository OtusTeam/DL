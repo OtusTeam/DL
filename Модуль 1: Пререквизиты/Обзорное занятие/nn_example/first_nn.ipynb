{
 "cells": [
  {
   "cell_type": "code",
   "execution_count": 65,
   "id": "0e2c42e9",
   "metadata": {},
   "outputs": [
    {
     "data": {
      "text/plain": [
       "'1.8.1+cu102'"
      ]
     },
     "execution_count": 65,
     "metadata": {},
     "output_type": "execute_result"
    }
   ],
   "source": [
    "import numpy as np\n",
    "import torch\n",
    "torch.__version__"
   ]
  },
  {
   "cell_type": "markdown",
   "id": "fbd793e5",
   "metadata": {},
   "source": [
    "## 1. Создаем искусственный нейрон\n",
    "Реализуем математическую модель искусственного нейрона на основе формулы:\n",
    "<img src=\"images/neuron_formula.png\">"
   ]
  },
  {
   "cell_type": "code",
   "execution_count": 36,
   "id": "0d80b1fc",
   "metadata": {},
   "outputs": [],
   "source": [
    "# Input size:\n",
    "n = 10\n",
    "\n",
    "# Inputs:\n",
    "x = torch.empty((n), dtype=torch.float32)\n",
    "\n",
    "# Weights:\n",
    "w = torch.empty(x.shape, dtype=torch.float32)\n",
    "\n",
    "# Bais:\n",
    "b = torch.ones(x.shape, dtype=torch.float32)\n",
    "\n",
    "# Get output:\n",
    "y = torch.sum(x*w + b)\n",
    "\n",
    "# Add nonlinearity:\n",
    "y = torch.sign(y)"
   ]
  },
  {
   "cell_type": "markdown",
   "id": "377d7337",
   "metadata": {},
   "source": [
    "### 1.1 Инициализируем тензоры случайными значениями, меняем функцию активации:"
   ]
  },
  {
   "cell_type": "code",
   "execution_count": 78,
   "id": "3d5b2819",
   "metadata": {},
   "outputs": [],
   "source": [
    "# Input size:\n",
    "n = 10\n",
    "\n",
    "# Inputs:\n",
    "x = torch.rand((n), dtype=torch.float32)\n",
    "x -= 0.5\n",
    "\n",
    "# Weights:\n",
    "w = torch.empty(x.shape, dtype=torch.float32)\n",
    "w -= 0.5\n",
    "\n",
    "# Bais:\n",
    "b = torch.ones(x.shape, dtype=torch.float32)\n",
    "\n",
    "# Get output:\n",
    "y = torch.sum(x*w + b)\n",
    "\n",
    "# ReLU (the rectified-linear activation function ):\n",
    "y = torch.relu(y)"
   ]
  },
  {
   "cell_type": "markdown",
   "id": "4791b449",
   "metadata": {},
   "source": [
    "### 1.2 Перемещаем тензоры на GPU:"
   ]
  },
  {
   "cell_type": "code",
   "execution_count": 72,
   "id": "6023f288",
   "metadata": {},
   "outputs": [],
   "source": [
    "# Choose device (CUDA or CPU):\n",
    "device = torch.device('cuda' if torch.cuda.is_available() else 'cpu')\n",
    "\n",
    "# Input size:\n",
    "n = 10\n",
    "\n",
    "# Inputs:\n",
    "x = torch.rand((n), dtype=torch.float32)\n",
    "x = x.to(device=device)\n",
    "x -= 0.5\n",
    "\n",
    "# Weights:\n",
    "w = torch.empty(x.shape, dtype=torch.float32)\n",
    "w = w.to(device=device)\n",
    "w -= 0.5\n",
    "\n",
    "# Bais:\n",
    "b = torch.ones(x.shape, dtype=torch.float32)\n",
    "b = b.to(device=device)\n",
    "\n",
    "# Get output:\n",
    "y = torch.sum(x*w + b)\n",
    "\n",
    "# Add nonlinearity (ReLU activation):\n",
    "y = torch.relu(y)\n",
    "\n",
    "# CPU -> GPU:\n",
    "y = y.cpu().numpy()"
   ]
  },
  {
   "cell_type": "markdown",
   "id": "2a5b4427",
   "metadata": {},
   "source": [
    "## 2. Создаем полносвязную нейронную сеть\n",
    "Реализуем простую полносвязную нейронную сеть:\n",
    "<img src=\"images/nn_picture.png\">"
   ]
  },
  {
   "cell_type": "code",
   "execution_count": 80,
   "id": "a55530a3",
   "metadata": {},
   "outputs": [],
   "source": [
    "import torch.nn as nn               # imports base class for NN\n",
    "import torch.nn.functional as F     # imports activation functions"
   ]
  },
  {
   "cell_type": "code",
   "execution_count": 91,
   "id": "b28035be",
   "metadata": {},
   "outputs": [],
   "source": [
    "class MyNet(nn.Module):\n",
    "    def __init__(self, in_size, out_size):\n",
    "        super(MyNet, self).__init__()\n",
    "        # Describe layers:\n",
    "        self.input = nn.Linear(in_size, 100)\n",
    "        self.fc1 = nn.Linear(100, 1000)\n",
    "        self.dropout1 = nn.Dropout(0.25)\n",
    "        self.fc2 = nn.Linear(1000, 100)\n",
    "        self.dropout2 = nn.Dropout(0.5)\n",
    "        self.output = nn.Linear(100, out_size)\n",
    "\n",
    "    # Forward propagation:\n",
    "    def forward(self, x):\n",
    "        '''\n",
    "        x reprenets our input data\n",
    "        '''\n",
    "        # Pass data through layers:\n",
    "        x = self.input(x)\n",
    "        x = F.relu(x)\n",
    "        \n",
    "        x = self.fc1(x)\n",
    "        x = F.relu(x)\n",
    "        x = self.dropout1(x)\n",
    "        \n",
    "        x = self.fc2(x)\n",
    "        x = F.relu(x)\n",
    "        x = self.dropout2(x)\n",
    "\n",
    "        x = self.output(x)\n",
    "        \n",
    "        # Apply softmax to x:\n",
    "        y = F.log_softmax(x, dim=1)\n",
    "        \n",
    "        return y"
   ]
  },
  {
   "cell_type": "markdown",
   "id": "66ef2a6c",
   "metadata": {},
   "source": [
    "### 2.1 Инициализируем нейронную сеть и пропускаем через нее батч рандомных данных"
   ]
  },
  {
   "cell_type": "code",
   "execution_count": 103,
   "id": "d3653057",
   "metadata": {},
   "outputs": [
    {
     "name": "stdout",
     "output_type": "stream",
     "text": [
      "tensor([6, 2, 2, 2, 6, 2, 6, 6, 2, 2, 6, 2, 6, 7, 1, 2, 6, 2, 6, 6, 6, 7, 2, 2,\n",
      "        6, 6, 2, 6, 7, 2, 6, 2, 7, 6, 2, 7, 7, 6, 7, 6, 6, 6, 2, 2, 1, 7, 7, 6,\n",
      "        2, 2, 7, 7, 6, 2, 6, 7, 6, 7, 7, 2, 7, 6, 6, 2])\n"
     ]
    }
   ],
   "source": [
    "# Init a model:\n",
    "my_nn = MyNet(5, 10)              # input size: 5, output size: 10\n",
    "\n",
    "# Input batch of data (random):\n",
    "batch_data = torch.rand((64, 5))  # batch size: 64\n",
    "\n",
    "# Pass data through the model:\n",
    "logits = my_nn(batch_data)\n",
    "\n",
    "# Pick best probability after softmax:\n",
    "preds = torch.argmax(logits, dim=1)\n",
    "\n",
    "print (preds)"
   ]
  },
  {
   "cell_type": "markdown",
   "id": "3e3e5e1d",
   "metadata": {},
   "source": [
    "### 2.2 Делаем то же что и в 2.1, но на GPU:"
   ]
  },
  {
   "cell_type": "code",
   "execution_count": 105,
   "id": "8d15ef2f",
   "metadata": {},
   "outputs": [
    {
     "name": "stdout",
     "output_type": "stream",
     "text": [
      "tensor([7, 5, 1, 7, 1, 7, 7, 7, 7, 1, 1, 7, 7, 5, 7, 7, 7, 5, 1, 5, 5, 7, 7, 7,\n",
      "        7, 5, 7, 3, 1, 1, 7, 5, 7, 5, 7, 7, 7, 5, 5, 7, 7, 5, 7, 5, 5, 5, 5, 7,\n",
      "        5, 1, 7, 7, 5, 7, 7, 7, 7, 7, 7, 7, 7, 1, 7, 5])\n"
     ]
    }
   ],
   "source": [
    "# Choose device (CUDA or CPU):\n",
    "device = torch.device('cuda' if torch.cuda.is_available() else 'cpu')\n",
    "\n",
    "# Init a model:\n",
    "my_nn = MyNet(5, 10)              # input size: 5, output size: 10\n",
    "my_nn.to(device)\n",
    "\n",
    "# Input batch of data (random):\n",
    "batch_data = torch.rand((64, 5))  # batch size: 64\n",
    "batch_data = batch_data.to(device)\n",
    "\n",
    "# Pass data through the model:\n",
    "logits = my_nn(batch_data)\n",
    "\n",
    "# Pick best probability after softmax:\n",
    "preds = torch.argmax(logits, dim=1)\n",
    "\n",
    "# CPU -> GPU:\n",
    "preds = preds.cpu()\n",
    "\n",
    "print (preds)"
   ]
  },
  {
   "cell_type": "markdown",
   "id": "2e259df2",
   "metadata": {},
   "source": [
    "# Нейронная сеть создана, теперь нужно лишь ее обучить! "
   ]
  }
 ],
 "metadata": {
  "kernelspec": {
   "display_name": "Python 3",
   "language": "python",
   "name": "python3"
  },
  "language_info": {
   "codemirror_mode": {
    "name": "ipython",
    "version": 3
   },
   "file_extension": ".py",
   "mimetype": "text/x-python",
   "name": "python",
   "nbconvert_exporter": "python",
   "pygments_lexer": "ipython3",
   "version": "3.6.9"
  }
 },
 "nbformat": 4,
 "nbformat_minor": 5
}
